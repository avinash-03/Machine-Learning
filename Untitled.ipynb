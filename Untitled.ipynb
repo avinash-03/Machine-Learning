{
 "cells": [
  {
   "cell_type": "code",
   "execution_count": 1,
   "id": "f98e46ec",
   "metadata": {
    "ExecuteTime": {
     "end_time": "2021-12-10T17:10:38.101159Z",
     "start_time": "2021-12-10T17:10:34.976018Z"
    }
   },
   "outputs": [],
   "source": [
    "from sklearn.datasets import fetch_openml\n",
    "import pandas as pd\n",
    "import numpy as np\n",
    "import matplotlib as mpl\n",
    "import matplotlib.pyplot as plt\n"
   ]
  },
  {
   "cell_type": "code",
   "execution_count": 2,
   "id": "bd313559",
   "metadata": {
    "ExecuteTime": {
     "end_time": "2021-12-10T17:10:44.127020Z",
     "start_time": "2021-12-10T17:10:38.104162Z"
    }
   },
   "outputs": [],
   "source": [
    "import tensorflow as tf"
   ]
  },
  {
   "cell_type": "code",
   "execution_count": 3,
   "id": "436d6b08",
   "metadata": {
    "ExecuteTime": {
     "end_time": "2021-12-10T17:11:37.296549Z",
     "start_time": "2021-12-10T17:10:44.129022Z"
    }
   },
   "outputs": [],
   "source": [
    "mnist = fetch_openml('mnist_784', version=1)"
   ]
  },
  {
   "cell_type": "code",
   "execution_count": 4,
   "id": "12154a96",
   "metadata": {
    "ExecuteTime": {
     "end_time": "2021-12-10T17:11:37.406344Z",
     "start_time": "2021-12-10T17:11:37.312178Z"
    }
   },
   "outputs": [
    {
     "data": {
      "text/plain": [
       "sklearn.utils.Bunch"
      ]
     },
     "execution_count": 4,
     "metadata": {},
     "output_type": "execute_result"
    }
   ],
   "source": [
    "type(mnist) #Types of dataset"
   ]
  },
  {
   "cell_type": "code",
   "execution_count": 5,
   "id": "ebccf9dc",
   "metadata": {
    "ExecuteTime": {
     "end_time": "2021-12-10T17:11:37.421972Z",
     "start_time": "2021-12-10T17:11:37.406344Z"
    }
   },
   "outputs": [
    {
     "data": {
      "text/plain": [
       "dict_keys(['data', 'target', 'frame', 'categories', 'feature_names', 'target_names', 'DESCR', 'details', 'url'])"
      ]
     },
     "execution_count": 5,
     "metadata": {},
     "output_type": "execute_result"
    }
   ],
   "source": [
    "mnist.keys()"
   ]
  },
  {
   "cell_type": "code",
   "execution_count": null,
   "id": "ca560c39",
   "metadata": {
    "ExecuteTime": {
     "end_time": "2021-12-09T13:21:40.261059Z",
     "start_time": "2021-12-09T13:21:40.233059Z"
    }
   },
   "outputs": [],
   "source": []
  },
  {
   "cell_type": "code",
   "execution_count": null,
   "id": "af7dcd0d",
   "metadata": {},
   "outputs": [],
   "source": []
  },
  {
   "cell_type": "code",
   "execution_count": 6,
   "id": "884a2491",
   "metadata": {
    "ExecuteTime": {
     "end_time": "2021-12-10T17:11:37.437987Z",
     "start_time": "2021-12-10T17:11:37.421972Z"
    }
   },
   "outputs": [],
   "source": [
    "X , y = mnist[\"data\"], mnist['target']"
   ]
  },
  {
   "cell_type": "code",
   "execution_count": 7,
   "id": "d6b40224",
   "metadata": {
    "ExecuteTime": {
     "end_time": "2021-12-10T17:11:37.453617Z",
     "start_time": "2021-12-10T17:11:37.437987Z"
    }
   },
   "outputs": [
    {
     "data": {
      "text/plain": [
       "((70000, 784), (70000,))"
      ]
     },
     "execution_count": 7,
     "metadata": {},
     "output_type": "execute_result"
    }
   ],
   "source": [
    "X.shape,y.shape\n"
   ]
  },
  {
   "cell_type": "code",
   "execution_count": null,
   "id": "43d3aee8",
   "metadata": {
    "ExecuteTime": {
     "end_time": "2021-12-09T12:46:50.009467Z",
     "start_time": "2021-12-09T12:46:46.197700Z"
    }
   },
   "outputs": [],
   "source": []
  },
  {
   "cell_type": "code",
   "execution_count": 8,
   "id": "f28119bc",
   "metadata": {
    "ExecuteTime": {
     "end_time": "2021-12-10T17:11:37.751739Z",
     "start_time": "2021-12-10T17:11:37.453617Z"
    }
   },
   "outputs": [
    {
     "data": {
      "image/png": "[encoded data removed]",
      "text/plain": [
       "<Figure size 432x288 with 1 Axes>"
      ]
     },
     "metadata": {
      "needs_background": "light"
     },
     "output_type": "display_data"
    }
   ],
   "source": [
    "some_digit = X.iloc[0]  # X[:1] gives the first row in dataframe\n",
    "some_digit_image=np.array(some_digit).reshape(28,28)\n",
    "#some_digit_image = some_digit.reshape(28,28)\n",
    "\n",
    "plt.imshow(some_digit_image,cmap=mpl.cm.binary, interpolation='nearest')\n",
    "plt.axis('off')\n",
    "plt.show()"
   ]
  },
  {
   "cell_type": "code",
   "execution_count": 9,
   "id": "d58a6123",
   "metadata": {
    "ExecuteTime": {
     "end_time": "2021-12-10T17:11:37.767368Z",
     "start_time": "2021-12-10T17:11:37.751739Z"
    }
   },
   "outputs": [
    {
     "data": {
      "text/plain": [
       "'5'"
      ]
     },
     "execution_count": 9,
     "metadata": {},
     "output_type": "execute_result"
    }
   ],
   "source": [
    "y[0] # it is string convert into numbers"
   ]
  },
  {
   "cell_type": "code",
   "execution_count": 10,
   "id": "d570455a",
   "metadata": {
    "ExecuteTime": {
     "end_time": "2021-12-10T17:11:37.782998Z",
     "start_time": "2021-12-10T17:11:37.767368Z"
    }
   },
   "outputs": [],
   "source": [
    "y= y.astype(np.uint8)"
   ]
  },
  {
   "cell_type": "code",
   "execution_count": 11,
   "id": "5ad0ad52",
   "metadata": {
    "ExecuteTime": {
     "end_time": "2021-12-10T17:11:39.194313Z",
     "start_time": "2021-12-10T17:11:37.782998Z"
    }
   },
   "outputs": [
    {
     "data": {
      "image/png": "[encoded data removed]",
      "text/plain": [
       "<Figure size 1152x432 with 20 Axes>"
      ]
     },
     "metadata": {
      "needs_background": "light"
     },
     "output_type": "display_data"
    }
   ],
   "source": [
    "# see more images\n",
    "fig, axes = plt.subplots(2,10, figsize=(16,6))\n",
    "\n",
    "for i in range(20):\n",
    "    some_digit= X.iloc[i]\n",
    "    some_digit_image=np.array(some_digit).reshape(28,28)\n",
    "    axes[i//10, i%10].imshow(some_digit_image,cmap=mpl.cm.binary,interpolation='nearest')\n",
    "    axes[i//10,i%10].set_title(f\"target:{y[i]}\")"
   ]
  },
  {
   "cell_type": "code",
   "execution_count": 12,
   "id": "e1071a40",
   "metadata": {
    "ExecuteTime": {
     "end_time": "2021-12-10T17:11:39.209943Z",
     "start_time": "2021-12-10T17:11:39.194313Z"
    }
   },
   "outputs": [],
   "source": [
    "# create test set and train set\n",
    "x_train, x_test,y_train,y_test = X[:60000],X[60000:],y[:60000],y[60000:]\n"
   ]
  },
  {
   "cell_type": "code",
   "execution_count": 13,
   "id": "a0de5886",
   "metadata": {
    "ExecuteTime": {
     "end_time": "2021-12-10T17:11:39.225574Z",
     "start_time": "2021-12-10T17:11:39.209943Z"
    }
   },
   "outputs": [],
   "source": [
    "# Binary classifer   two class --> true for 5 , false for not 5\n",
    "y_train_5 = (y_train==5)\n",
    "y_test_5= (y_test==5)"
   ]
  },
  {
   "cell_type": "code",
   "execution_count": 14,
   "id": "559989d8",
   "metadata": {
    "ExecuteTime": {
     "end_time": "2021-12-10T17:11:55.628861Z",
     "start_time": "2021-12-10T17:11:39.225574Z"
    }
   },
   "outputs": [
    {
     "data": {
      "text/plain": [
       "SGDClassifier(random_state=42)"
      ]
     },
     "execution_count": 14,
     "metadata": {},
     "output_type": "execute_result"
    }
   ],
   "source": [
    "# SGD classifier --> Stochastic gradient Descent\n",
    "from sklearn.linear_model import SGDClassifier\n",
    "\n",
    "sgd_clf = SGDClassifier(random_state=42)\n",
    "sgd_clf.fit(x_train,y_train_5)"
   ]
  },
  {
   "cell_type": "code",
   "execution_count": 15,
   "id": "0ed753f4",
   "metadata": {
    "ExecuteTime": {
     "end_time": "2021-12-10T17:11:55.754305Z",
     "start_time": "2021-12-10T17:11:55.628861Z"
    }
   },
   "outputs": [],
   "source": [
    "some_digit=x_train[:1]\n",
    "sgd_clf.predict(some_digit)\n",
    "\n",
    "ypred_train = sgd_clf.predict(x_train)"
   ]
  },
  {
   "cell_type": "code",
   "execution_count": 16,
   "id": "2f017afc",
   "metadata": {
    "ExecuteTime": {
     "end_time": "2021-12-10T17:12:23.200284Z",
     "start_time": "2021-12-10T17:11:55.754305Z"
    }
   },
   "outputs": [
    {
     "name": "stdout",
     "output_type": "stream",
     "text": [
      "0.9389\n",
      "0.9633\n",
      "0.9501\n"
     ]
    }
   ],
   "source": [
    "# Performamce Measure\n",
    "# Cross validation \n",
    "from sklearn.model_selection import StratifiedKFold\n",
    "from sklearn.base import clone\n",
    "clone_clf = SGDClassifier()\n",
    "skfolds = StratifiedKFold(n_splits=3)\n",
    "\n",
    "for train_index, test_index in skfolds.split(x_train,y_train_5):\n",
    "    x_train_folds = x_train.iloc[train_index]\n",
    "    y_train_folds = y_train_5[train_index]\n",
    "    x_test_fold = x_train.iloc[test_index]\n",
    "    y_test_fold = y_train_5[test_index]\n",
    "    \n",
    "    clone_clf.fit(x_train_folds,y_train_folds)\n",
    "    y_pred = clone_clf.predict(x_test_fold)\n",
    "    n_correct = sum(y_pred==y_test_fold)\n",
    "    print(n_correct/len(y_pred))"
   ]
  },
  {
   "cell_type": "code",
   "execution_count": 17,
   "id": "0acd6c51",
   "metadata": {
    "ExecuteTime": {
     "end_time": "2021-12-10T17:15:54.313100Z",
     "start_time": "2021-12-10T17:12:23.200284Z"
    }
   },
   "outputs": [
    {
     "data": {
      "text/plain": [
       "array([0.87365, 0.85835, 0.8689 ])"
      ]
     },
     "execution_count": 17,
     "metadata": {},
     "output_type": "execute_result"
    }
   ],
   "source": [
    "# check the accuracy using cross val score takes (model, xtrain,ytrain,cv=3,scoring='accuracy')\n",
    "from sklearn.model_selection import cross_val_score\n",
    "cross_val_score(sgd_clf, x_train, y_train, cv=3, scoring='accuracy')"
   ]
  },
  {
   "cell_type": "code",
   "execution_count": 18,
   "id": "da0c1d9f",
   "metadata": {
    "ExecuteTime": {
     "end_time": "2021-12-10T17:15:54.329103Z",
     "start_time": "2021-12-10T17:15:54.315100Z"
    }
   },
   "outputs": [],
   "source": [
    "from sklearn.base import BaseEstimator\n",
    "\n",
    "class Never5Classifier(BaseEstimator):\n",
    "    def fit(self, X, y=None):\n",
    "        pass\n",
    "    def predict(self,X):\n",
    "        return np.zeros((len(X),1), dtype=bool)"
   ]
  },
  {
   "cell_type": "code",
   "execution_count": 19,
   "id": "c2c9af6e",
   "metadata": {
    "ExecuteTime": {
     "end_time": "2021-12-10T17:15:54.917772Z",
     "start_time": "2021-12-10T17:15:54.332105Z"
    }
   },
   "outputs": [
    {
     "data": {
      "text/plain": [
       "array([0.91125, 0.90855, 0.90915])"
      ]
     },
     "execution_count": 19,
     "metadata": {},
     "output_type": "execute_result"
    }
   ],
   "source": [
    "never_5_clf = Never5Classifier()\n",
    "cross_val_score(never_5_clf, x_train, y_train_5, cv=3,scoring='accuracy')"
   ]
  },
  {
   "cell_type": "code",
   "execution_count": 20,
   "id": "6d839c2b",
   "metadata": {
    "ExecuteTime": {
     "end_time": "2021-12-10T17:15:54.949400Z",
     "start_time": "2021-12-10T17:15:54.919773Z"
    }
   },
   "outputs": [
    {
     "data": {
      "text/plain": [
       "array([[52316,  2263],\n",
       "       [  601,  4820]], dtype=int64)"
      ]
     },
     "execution_count": 20,
     "metadata": {},
     "output_type": "execute_result"
    }
   ],
   "source": [
    "# confusion matrix\n",
    "from sklearn.metrics import confusion_matrix\n",
    "confusion_matrix(y_train_5,ypred_train)"
   ]
  },
  {
   "cell_type": "code",
   "execution_count": 21,
   "id": "5c5443bf",
   "metadata": {
    "ExecuteTime": {
     "end_time": "2021-12-10T17:15:54.981404Z",
     "start_time": "2021-12-10T17:15:54.951404Z"
    }
   },
   "outputs": [
    {
     "data": {
      "text/plain": [
       "0.6805026118876183"
      ]
     },
     "execution_count": 21,
     "metadata": {},
     "output_type": "execute_result"
    }
   ],
   "source": [
    "from sklearn.metrics import precision_score, recall_score\n",
    ">>> precision_score(y_train_5, ypred_train) # 4820 / (4820+2263)\n"
   ]
  },
  {
   "cell_type": "code",
   "execution_count": 22,
   "id": "454dadd0",
   "metadata": {
    "ExecuteTime": {
     "end_time": "2021-12-10T17:15:55.013407Z",
     "start_time": "2021-12-10T17:15:54.983406Z"
    }
   },
   "outputs": [
    {
     "data": {
      "text/plain": [
       "0.8891348459693783"
      ]
     },
     "execution_count": 22,
     "metadata": {},
     "output_type": "execute_result"
    }
   ],
   "source": [
    ">>> recall_score(y_train_5, ypred_train) # 4820/4820+601"
   ]
  },
  {
   "cell_type": "code",
   "execution_count": 23,
   "id": "f6b69e39",
   "metadata": {
    "ExecuteTime": {
     "end_time": "2021-12-10T17:15:55.044410Z",
     "start_time": "2021-12-10T17:15:55.015410Z"
    }
   },
   "outputs": [
    {
     "data": {
      "text/plain": [
       "0.7709532949456175"
      ]
     },
     "execution_count": 23,
     "metadata": {},
     "output_type": "execute_result"
    }
   ],
   "source": [
    "# f1 score combination of precision and recall is f1 score\n",
    "# f1 score = 2 * Precision * recall / (precison + recall)\n",
    "from sklearn.metrics import f1_score\n",
    "f1_score(y_train_5,ypred_train)"
   ]
  },
  {
   "cell_type": "code",
   "execution_count": 24,
   "id": "c0bfc338",
   "metadata": {
    "ExecuteTime": {
     "end_time": "2021-12-10T17:15:55.059414Z",
     "start_time": "2021-12-10T17:15:55.046411Z"
    }
   },
   "outputs": [],
   "source": [
    "Y_score  = sgd_clf.decision_function(some_digit)"
   ]
  },
  {
   "cell_type": "code",
   "execution_count": 25,
   "id": "181881cf",
   "metadata": {
    "ExecuteTime": {
     "end_time": "2021-12-10T17:15:55.075414Z",
     "start_time": "2021-12-10T17:15:55.062420Z"
    },
    "scrolled": true
   },
   "outputs": [
    {
     "data": {
      "text/plain": [
       "array([2164.22030239])"
      ]
     },
     "execution_count": 25,
     "metadata": {},
     "output_type": "execute_result"
    }
   ],
   "source": [
    "Y_score"
   ]
  },
  {
   "cell_type": "code",
   "execution_count": 26,
   "id": "15afd31b",
   "metadata": {
    "ExecuteTime": {
     "end_time": "2021-12-10T17:15:55.091413Z",
     "start_time": "2021-12-10T17:15:55.077416Z"
    }
   },
   "outputs": [
    {
     "data": {
      "text/plain": [
       "array([ True])"
      ]
     },
     "execution_count": 26,
     "metadata": {},
     "output_type": "execute_result"
    }
   ],
   "source": [
    "threshold = 0\n",
    "y_some_digit_pred = (Y_score > threshold)\n",
    "y_some_digit_pred"
   ]
  },
  {
   "cell_type": "code",
   "execution_count": 27,
   "id": "e46b9d57",
   "metadata": {
    "ExecuteTime": {
     "end_time": "2021-12-10T17:15:55.107416Z",
     "start_time": "2021-12-10T17:15:55.093416Z"
    }
   },
   "outputs": [
    {
     "data": {
      "text/plain": [
       "array([False])"
      ]
     },
     "execution_count": 27,
     "metadata": {},
     "output_type": "execute_result"
    }
   ],
   "source": [
    "threshold = 8000\n",
    "y_some_digit_pred = (Y_score > threshold)\n",
    "y_some_digit_pred"
   ]
  },
  {
   "cell_type": "code",
   "execution_count": 28,
   "id": "7c4aba2a",
   "metadata": {
    "ExecuteTime": {
     "end_time": "2021-12-10T17:16:16.527230Z",
     "start_time": "2021-12-10T17:15:55.115418Z"
    }
   },
   "outputs": [],
   "source": [
    "# raising in threshold decreases recall\n",
    "# which threshold use??\n",
    "from sklearn.model_selection import cross_val_predict\n",
    "y_score = cross_val_predict(sgd_clf,x_train, y_train_5, cv=3, method='decision_function')"
   ]
  },
  {
   "cell_type": "code",
   "execution_count": 29,
   "id": "225102fd",
   "metadata": {
    "ExecuteTime": {
     "end_time": "2021-12-10T17:16:16.543152Z",
     "start_time": "2021-12-10T17:16:16.527230Z"
    }
   },
   "outputs": [
    {
     "data": {
      "text/plain": [
       "array([  1200.93051237, -26883.79202424, -33072.03475406, ...,\n",
       "        13272.12718981,  -7258.47203373, -16877.50840447])"
      ]
     },
     "execution_count": 29,
     "metadata": {},
     "output_type": "execute_result"
    }
   ],
   "source": [
    "y_score"
   ]
  },
  {
   "cell_type": "code",
   "execution_count": 30,
   "id": "e9a9f729",
   "metadata": {
    "ExecuteTime": {
     "end_time": "2021-12-10T17:16:16.575155Z",
     "start_time": "2021-12-10T17:16:16.545157Z"
    }
   },
   "outputs": [],
   "source": [
    "from sklearn.metrics import precision_recall_curve\n",
    "\n",
    "precision, recalls, threshold = precision_recall_curve(y_train_5, y_score)"
   ]
  },
  {
   "cell_type": "code",
   "execution_count": 31,
   "id": "da1c7f2f",
   "metadata": {
    "ExecuteTime": {
     "end_time": "2021-12-10T17:16:16.591157Z",
     "start_time": "2021-12-10T17:16:16.577156Z"
    }
   },
   "outputs": [
    {
     "data": {
      "text/plain": [
       "59967"
      ]
     },
     "execution_count": 31,
     "metadata": {},
     "output_type": "execute_result"
    }
   ],
   "source": [
    "len(precision)"
   ]
  },
  {
   "cell_type": "code",
   "execution_count": 32,
   "id": "7203af18",
   "metadata": {
    "ExecuteTime": {
     "end_time": "2021-12-10T17:16:16.607157Z",
     "start_time": "2021-12-10T17:16:16.593157Z"
    }
   },
   "outputs": [
    {
     "data": {
      "text/plain": [
       "array([1.00000000e+00, 9.99815532e-01, 9.99815532e-01, ...,\n",
       "       3.68935621e-04, 1.84467810e-04, 0.00000000e+00])"
      ]
     },
     "execution_count": 32,
     "metadata": {},
     "output_type": "execute_result"
    }
   ],
   "source": [
    "recalls"
   ]
  },
  {
   "cell_type": "code",
   "execution_count": 33,
   "id": "01ebc47f",
   "metadata": {
    "ExecuteTime": {
     "end_time": "2021-12-10T17:16:16.623158Z",
     "start_time": "2021-12-10T17:16:16.609159Z"
    }
   },
   "outputs": [
    {
     "data": {
      "text/plain": [
       "array([-106527.45300471, -105763.22240074, -105406.2965229 , ...,\n",
       "         38871.26391927,   42216.05562787,   49441.43765905])"
      ]
     },
     "execution_count": 33,
     "metadata": {},
     "output_type": "execute_result"
    }
   ],
   "source": [
    "threshold"
   ]
  },
  {
   "cell_type": "code",
   "execution_count": 34,
   "id": "1a3a51e5",
   "metadata": {
    "ExecuteTime": {
     "end_time": "2021-12-10T17:16:16.639162Z",
     "start_time": "2021-12-10T17:16:16.625161Z"
    }
   },
   "outputs": [],
   "source": [
    "def plot_precision_recall_vs_threshold(precison, recalls, thresholds):\n",
    "    plt.plot(thresholds, precision[:-1], 'b--', label='Precision')\n",
    "    plt.plot(thresholds, recalls[:-1], 'g-', label='Recall')\n",
    "    plt.legend()\n",
    "    "
   ]
  },
  {
   "cell_type": "code",
   "execution_count": 35,
   "id": "0d716290",
   "metadata": {
    "ExecuteTime": {
     "end_time": "2021-12-10T17:16:16.990576Z",
     "start_time": "2021-12-10T17:16:16.641162Z"
    }
   },
   "outputs": [
    {
     "data": {
      "image/png": "[encoded data removed]",
      "text/plain": [
       "<Figure size 432x288 with 1 Axes>"
      ]
     },
     "metadata": {
      "needs_background": "light"
     },
     "output_type": "display_data"
    }
   ],
   "source": [
    "plot_precision_recall_vs_threshold(precision,recalls,threshold)"
   ]
  },
  {
   "cell_type": "code",
   "execution_count": 36,
   "id": "09c7591d",
   "metadata": {
    "ExecuteTime": {
     "end_time": "2021-12-10T17:16:17.116586Z",
     "start_time": "2021-12-10T17:16:16.993577Z"
    }
   },
   "outputs": [
    {
     "data": {
      "text/plain": [
       "Text(0, 0.5, 'precision')"
      ]
     },
     "execution_count": 36,
     "metadata": {},
     "output_type": "execute_result"
    },
    {
     "data": {
      "image/png": "[encoded data removed]",
      "text/plain": [
       "<Figure size 432x288 with 1 Axes>"
      ]
     },
     "metadata": {
      "needs_background": "light"
     },
     "output_type": "display_data"
    }
   ],
   "source": [
    "plt.plot(recalls,precision)\n",
    "plt.xlabel('recall')\n",
    "plt.ylabel('precision')"
   ]
  },
  {
   "cell_type": "code",
   "execution_count": 37,
   "id": "db247082",
   "metadata": {
    "ExecuteTime": {
     "end_time": "2021-12-10T17:16:17.132589Z",
     "start_time": "2021-12-10T17:16:17.118588Z"
    }
   },
   "outputs": [
    {
     "data": {
      "text/plain": [
       "3370.019499143958"
      ]
     },
     "execution_count": 37,
     "metadata": {},
     "output_type": "execute_result"
    }
   ],
   "source": [
    "threshold_90_precision = threshold[np.argmax(precision >=0.90)]\n",
    "threshold_90_precision"
   ]
  },
  {
   "cell_type": "code",
   "execution_count": 38,
   "id": "a730512b",
   "metadata": {
    "ExecuteTime": {
     "end_time": "2021-12-10T17:16:17.148589Z",
     "start_time": "2021-12-10T17:16:17.135591Z"
    }
   },
   "outputs": [],
   "source": [
    "y_train_pred_90 = (y_score >= threshold_90_precision)"
   ]
  },
  {
   "cell_type": "code",
   "execution_count": 39,
   "id": "ffb534b8",
   "metadata": {
    "ExecuteTime": {
     "end_time": "2021-12-10T17:16:17.180590Z",
     "start_time": "2021-12-10T17:16:17.151593Z"
    }
   },
   "outputs": [
    {
     "data": {
      "text/plain": [
       "0.9000345901072293"
      ]
     },
     "execution_count": 39,
     "metadata": {},
     "output_type": "execute_result"
    }
   ],
   "source": [
    "precision_score(y_train_5, y_train_pred_90)"
   ]
  },
  {
   "cell_type": "code",
   "execution_count": 40,
   "id": "2f7b3380",
   "metadata": {
    "ExecuteTime": {
     "end_time": "2021-12-10T17:16:17.210592Z",
     "start_time": "2021-12-10T17:16:17.182596Z"
    }
   },
   "outputs": [
    {
     "data": {
      "text/plain": [
       "0.4799852425751706"
      ]
     },
     "execution_count": 40,
     "metadata": {},
     "output_type": "execute_result"
    }
   ],
   "source": [
    "recall_score(y_train_5,y_train_pred_90)"
   ]
  },
  {
   "cell_type": "markdown",
   "id": "51a7784a",
   "metadata": {},
   "source": [
    "# The ROC Curve"
   ]
  },
  {
   "cell_type": "markdown",
   "id": "09d5153f",
   "metadata": {},
   "source": [
    "## Receiver operating characteristic\n",
    "## Plot against True positive rate (recall) *vs* false positive rate\n",
    "## ROC curve plots sensitivity (recall) *vs*  (1-specificity)"
   ]
  },
  {
   "cell_type": "code",
   "execution_count": 41,
   "id": "14425f60",
   "metadata": {
    "ExecuteTime": {
     "end_time": "2021-12-10T17:16:17.226593Z",
     "start_time": "2021-12-10T17:16:17.212598Z"
    }
   },
   "outputs": [],
   "source": [
    "# find fpr,tpr threshold\n",
    "from sklearn.metrics import roc_curve\n",
    "fpr, tpr, threshold = roc_curve(y_train_5, y_score)"
   ]
  },
  {
   "cell_type": "code",
   "execution_count": 42,
   "id": "02fc8257",
   "metadata": {
    "ExecuteTime": {
     "end_time": "2021-12-10T17:16:17.242595Z",
     "start_time": "2021-12-10T17:16:17.229600Z"
    }
   },
   "outputs": [],
   "source": [
    "# Plot FPR against teh TPR\n",
    "def plot_roc_curve(fpr,tpr, label=None):\n",
    "    plt.plot(fpr,tpr, linewidth=2, label=label)\n",
    "    plt.plot([0,1],[0,1], 'k--')\n",
    "    plt.xlabel('False Positive Rate')\n",
    "    plt.ylabel('True Postitive Rate (recall)')\n",
    "    plt.legend()\n",
    "    "
   ]
  },
  {
   "cell_type": "code",
   "execution_count": 43,
   "id": "8e550c1a",
   "metadata": {
    "ExecuteTime": {
     "end_time": "2021-12-10T17:16:17.384744Z",
     "start_time": "2021-12-10T17:16:17.244598Z"
    }
   },
   "outputs": [
    {
     "name": "stderr",
     "output_type": "stream",
     "text": [
      "No artists with labels found to put in legend.  Note that artists whose label start with an underscore are ignored when legend() is called with no argument.\n"
     ]
    },
    {
     "data": {
      "image/png": "[encoded data removed]",
      "text/plain": [
       "<Figure size 432x288 with 1 Axes>"
      ]
     },
     "metadata": {
      "needs_background": "light"
     },
     "output_type": "display_data"
    }
   ],
   "source": [
    "plot_roc_curve(fpr,tpr)"
   ]
  },
  {
   "cell_type": "code",
   "execution_count": 44,
   "id": "82853d25",
   "metadata": {
    "ExecuteTime": {
     "end_time": "2021-12-10T17:16:17.416752Z",
     "start_time": "2021-12-10T17:16:17.386748Z"
    }
   },
   "outputs": [
    {
     "data": {
      "text/plain": [
       "0.9604938554008616"
      ]
     },
     "execution_count": 44,
     "metadata": {},
     "output_type": "execute_result"
    }
   ],
   "source": [
    "# ROC AUC curve \n",
    "from sklearn.metrics import roc_auc_score\n",
    "roc_auc_score(y_train_5,y_score)"
   ]
  },
  {
   "cell_type": "markdown",
   "id": "925721a8",
   "metadata": {},
   "source": [
    "#### As a rule\n",
    "of thumb, you should prefer the PR curve whenever the positive\n",
    "class is rare or when you care more about the false positives than\n",
    "the false negatives, and the ROC curve otherwise"
   ]
  },
  {
   "cell_type": "code",
   "execution_count": 45,
   "id": "ee5db4be",
   "metadata": {
    "ExecuteTime": {
     "end_time": "2021-12-10T17:18:05.733577Z",
     "start_time": "2021-12-10T17:16:17.418749Z"
    }
   },
   "outputs": [],
   "source": [
    "from sklearn.ensemble import RandomForestClassifier\n",
    "forest_clf = RandomForestClassifier(random_state=42)\n",
    "forest_clf.fit(x_train, y_train)\n",
    "y_prob_forest = cross_val_predict(forest_clf, x_train, y_train_5, cv=3, method=\"predict_proba\")"
   ]
  },
  {
   "cell_type": "code",
   "execution_count": 46,
   "id": "948ea43e",
   "metadata": {
    "ExecuteTime": {
     "end_time": "2021-12-10T17:18:05.749213Z",
     "start_time": "2021-12-10T17:18:05.733577Z"
    }
   },
   "outputs": [],
   "source": [
    "y_scores_forest = y_prob_forest[:,1]\n",
    "fpr_forest, tpr_forest, threshold_forest = roc_curve(y_train_5,y_scores_forest)"
   ]
  },
  {
   "cell_type": "code",
   "execution_count": 47,
   "id": "41091869",
   "metadata": {
    "ExecuteTime": {
     "end_time": "2021-12-10T17:18:05.893211Z",
     "start_time": "2021-12-10T17:18:05.751205Z"
    }
   },
   "outputs": [
    {
     "data": {
      "text/plain": [
       "<matplotlib.legend.Legend at 0x22db889ed00>"
      ]
     },
     "execution_count": 47,
     "metadata": {},
     "output_type": "execute_result"
    },
    {
     "data": {
      "image/png": "[encoded data removed]",
      "text/plain": [
       "<Figure size 432x288 with 1 Axes>"
      ]
     },
     "metadata": {
      "needs_background": "light"
     },
     "output_type": "display_data"
    }
   ],
   "source": [
    "plt.plot(fpr,tpr, 'b:',label='SGD')\n",
    "plot_roc_curve(fpr_forest,tpr_forest, 'Random Forest')\n",
    "plt.legend(loc='lower right')"
   ]
  },
  {
   "cell_type": "markdown",
   "id": "42be1db9",
   "metadata": {},
   "source": [
    "the RandomForestClassifier’s ROC curve looks much\n",
    "better than the SGDClassifier’s: it comes much closer to the top-left corner. As a\n",
    "result, its ROC AUC score is also significantly better:"
   ]
  },
  {
   "cell_type": "code",
   "execution_count": 48,
   "id": "2ab5a226",
   "metadata": {
    "ExecuteTime": {
     "end_time": "2021-12-10T17:18:05.925222Z",
     "start_time": "2021-12-10T17:18:05.896215Z"
    }
   },
   "outputs": [
    {
     "data": {
      "text/plain": [
       "0.9983436731328145"
      ]
     },
     "execution_count": 48,
     "metadata": {},
     "output_type": "execute_result"
    }
   ],
   "source": [
    "roc_auc_score(y_train_5, y_scores_forest)"
   ]
  },
  {
   "cell_type": "markdown",
   "id": "547ef6e6",
   "metadata": {
    "ExecuteTime": {
     "end_time": "2021-12-10T12:00:40.989995Z",
     "start_time": "2021-12-10T12:00:40.980978Z"
    }
   },
   "source": [
    "# Multiclass Classification"
   ]
  },
  {
   "cell_type": "markdown",
   "id": "803c94e1",
   "metadata": {},
   "source": [
    "### multiclass classifiers = Random forest classifiers and Naive bayes classifiers\n",
    "### strictly binary classifiesr = Support Vector Machine and Linear classifier"
   ]
  },
  {
   "cell_type": "code",
   "execution_count": 49,
   "id": "4201d0ef",
   "metadata": {
    "ExecuteTime": {
     "end_time": "2021-12-10T17:20:13.121960Z",
     "start_time": "2021-12-10T17:18:05.927225Z"
    }
   },
   "outputs": [
    {
     "data": {
      "text/plain": [
       "SGDClassifier(random_state=42)"
      ]
     },
     "execution_count": 49,
     "metadata": {},
     "output_type": "execute_result"
    }
   ],
   "source": [
    "# One vrsus all (OvA)\n",
    "# One vrsus one (OvO) SVM\n",
    "\n",
    "sgd_clf.fit(x_train, y_train)\n",
    "\n"
   ]
  },
  {
   "cell_type": "code",
   "execution_count": 50,
   "id": "dd95c5f3",
   "metadata": {
    "ExecuteTime": {
     "end_time": "2021-12-10T17:20:13.151966Z",
     "start_time": "2021-12-10T17:20:13.124961Z"
    }
   },
   "outputs": [
    {
     "data": {
      "text/plain": [
       "array([3], dtype=uint8)"
      ]
     },
     "execution_count": 50,
     "metadata": {},
     "output_type": "execute_result"
    }
   ],
   "source": [
    "sgd_clf.predict(some_digit)"
   ]
  },
  {
   "cell_type": "code",
   "execution_count": 51,
   "id": "18c32932",
   "metadata": {
    "ExecuteTime": {
     "end_time": "2021-12-10T17:20:13.167965Z",
     "start_time": "2021-12-10T17:20:13.156965Z"
    }
   },
   "outputs": [],
   "source": [
    "some_digite_scores = sgd_clf.decision_function(some_digit)"
   ]
  },
  {
   "cell_type": "code",
   "execution_count": 52,
   "id": "fd177abf",
   "metadata": {
    "ExecuteTime": {
     "end_time": "2021-12-10T17:20:13.183965Z",
     "start_time": "2021-12-10T17:20:13.170965Z"
    }
   },
   "outputs": [
    {
     "data": {
      "text/plain": [
       "array([[-31893.03095419, -34419.69069632,  -9530.63950739,\n",
       "          1823.73154031, -22320.14822878,  -1385.80478895,\n",
       "        -26188.91070951, -16147.51323997,  -4604.35491274,\n",
       "        -12050.767298  ]])"
      ]
     },
     "execution_count": 52,
     "metadata": {},
     "output_type": "execute_result"
    }
   ],
   "source": [
    "some_digite_scores"
   ]
  },
  {
   "cell_type": "code",
   "execution_count": 53,
   "id": "dbb02b8b",
   "metadata": {
    "ExecuteTime": {
     "end_time": "2021-12-10T17:20:13.199965Z",
     "start_time": "2021-12-10T17:20:13.185965Z"
    }
   },
   "outputs": [
    {
     "data": {
      "text/plain": [
       "3"
      ]
     },
     "execution_count": 53,
     "metadata": {},
     "output_type": "execute_result"
    }
   ],
   "source": [
    "np.argmax(some_digite_scores)"
   ]
  },
  {
   "cell_type": "code",
   "execution_count": 54,
   "id": "fd6f51e0",
   "metadata": {
    "ExecuteTime": {
     "end_time": "2021-12-10T17:20:13.215966Z",
     "start_time": "2021-12-10T17:20:13.201967Z"
    }
   },
   "outputs": [
    {
     "data": {
      "text/plain": [
       "array([0, 1, 2, 3, 4, 5, 6, 7, 8, 9], dtype=uint8)"
      ]
     },
     "execution_count": 54,
     "metadata": {},
     "output_type": "execute_result"
    }
   ],
   "source": [
    "# see which class is \n",
    "sgd_clf.classes_"
   ]
  },
  {
   "cell_type": "code",
   "execution_count": 55,
   "id": "9c1c6dfd",
   "metadata": {
    "ExecuteTime": {
     "end_time": "2021-12-10T17:20:13.231969Z",
     "start_time": "2021-12-10T17:20:13.218968Z"
    }
   },
   "outputs": [
    {
     "data": {
      "text/plain": [
       "5"
      ]
     },
     "execution_count": 55,
     "metadata": {},
     "output_type": "execute_result"
    }
   ],
   "source": [
    "# Print that class\n",
    "sgd_clf.classes_[5]"
   ]
  },
  {
   "cell_type": "code",
   "execution_count": 56,
   "id": "fb844c85",
   "metadata": {
    "ExecuteTime": {
     "end_time": "2021-12-10T17:20:52.920793Z",
     "start_time": "2021-12-10T17:20:13.233969Z"
    }
   },
   "outputs": [
    {
     "data": {
      "text/plain": [
       "OneVsOneClassifier(estimator=SGDClassifier(random_state=42))"
      ]
     },
     "execution_count": 56,
     "metadata": {},
     "output_type": "execute_result"
    }
   ],
   "source": [
    "from sklearn.multiclass import OneVsOneClassifier\n",
    "ovo_clf = OneVsOneClassifier(SGDClassifier(random_state=42))\n",
    "ovo_clf.fit(x_train,y_train)\n"
   ]
  },
  {
   "cell_type": "code",
   "execution_count": 57,
   "id": "582686fc",
   "metadata": {
    "ExecuteTime": {
     "end_time": "2021-12-10T17:20:52.952019Z",
     "start_time": "2021-12-10T17:20:52.923019Z"
    }
   },
   "outputs": [
    {
     "data": {
      "text/plain": [
       "array([5], dtype=uint8)"
      ]
     },
     "execution_count": 57,
     "metadata": {},
     "output_type": "execute_result"
    }
   ],
   "source": [
    "ovo_clf.predict(some_digit)"
   ]
  },
  {
   "cell_type": "code",
   "execution_count": 58,
   "id": "a5d4a3d3",
   "metadata": {
    "ExecuteTime": {
     "end_time": "2021-12-10T17:20:52.968021Z",
     "start_time": "2021-12-10T17:20:52.956021Z"
    }
   },
   "outputs": [
    {
     "data": {
      "text/plain": [
       "45"
      ]
     },
     "execution_count": 58,
     "metadata": {},
     "output_type": "execute_result"
    }
   ],
   "source": [
    "len(ovo_clf.estimators_)"
   ]
  },
  {
   "cell_type": "code",
   "execution_count": 59,
   "id": "769a3300",
   "metadata": {
    "ExecuteTime": {
     "end_time": "2021-12-10T17:20:52.999024Z",
     "start_time": "2021-12-10T17:20:52.971021Z"
    }
   },
   "outputs": [
    {
     "data": {
      "text/plain": [
       "array([[0.  , 0.  , 0.01, 0.08, 0.  , 0.9 , 0.  , 0.  , 0.  , 0.01]])"
      ]
     },
     "execution_count": 59,
     "metadata": {},
     "output_type": "execute_result"
    }
   ],
   "source": [
    "forest_clf.predict_proba(some_digit)"
   ]
  },
  {
   "cell_type": "code",
   "execution_count": 60,
   "id": "de86b84d",
   "metadata": {
    "ExecuteTime": {
     "end_time": "2021-12-10T17:20:54.141128Z",
     "start_time": "2021-12-10T17:20:53.002025Z"
    }
   },
   "outputs": [],
   "source": [
    "from sklearn.preprocessing import StandardScaler\n",
    "scaler = StandardScaler()\n",
    "x_train_scaled = scaler.fit_transform(x_train.astype(np.float64))"
   ]
  },
  {
   "cell_type": "code",
   "execution_count": 61,
   "id": "f1c2c9cf",
   "metadata": {
    "ExecuteTime": {
     "end_time": "2021-12-10T17:30:10.598598Z",
     "start_time": "2021-12-10T17:20:54.144131Z"
    }
   },
   "outputs": [
    {
     "data": {
      "text/plain": [
       "array([0.8983, 0.891 , 0.9018])"
      ]
     },
     "execution_count": 61,
     "metadata": {},
     "output_type": "execute_result"
    }
   ],
   "source": [
    "cross_val_score(sgd_clf,x_train_scaled,y_train, cv=3, scoring='accuracy')"
   ]
  },
  {
   "cell_type": "code",
   "execution_count": null,
   "id": "0912a948",
   "metadata": {},
   "outputs": [],
   "source": []
  },
  {
   "cell_type": "code",
   "execution_count": null,
   "id": "27d45048",
   "metadata": {},
   "outputs": [],
   "source": [
    "# Multiclass"
   ]
  },
  {
   "cell_type": "code",
   "execution_count": null,
   "id": "398c05a2",
   "metadata": {},
   "outputs": [],
   "source": [
    "from sklearn.neighbors import KNeighborsClassifier\n",
    "\n",
    "y_train_large = (y_train >= 7)\n",
    "y_train_odd = (y_train %2 ==1)\n",
    "y_multilabel =  np.c_[y_train_large,y_train_odd]\n"
   ]
  },
  {
   "cell_type": "code",
   "execution_count": 62,
   "id": "795791c6",
   "metadata": {
    "ExecuteTime": {
     "end_time": "2021-12-10T17:30:13.735447Z",
     "start_time": "2021-12-10T17:30:11.995346Z"
    }
   },
   "outputs": [
    {
     "ename": "NameError",
     "evalue": "name 'KNeighborsClassifier' is not defined",
     "output_type": "error",
     "traceback": [
      "\u001b[1;31m---------------------------------------------------------------------------\u001b[0m",
      "\u001b[1;31mNameError\u001b[0m                                 Traceback (most recent call last)",
      "\u001b[1;32mC:\\Users\\AVINAS~1\\AppData\\Local\\Temp/ipykernel_17988/2841492700.py\u001b[0m in \u001b[0;36m<module>\u001b[1;34m\u001b[0m\n\u001b[1;32m----> 1\u001b[1;33m \u001b[0mknn_clf\u001b[0m \u001b[1;33m=\u001b[0m \u001b[0mKNeighborsClassifier\u001b[0m\u001b[1;33m(\u001b[0m\u001b[1;33m)\u001b[0m\u001b[1;33m\u001b[0m\u001b[1;33m\u001b[0m\u001b[0m\n\u001b[0m\u001b[0;32m      2\u001b[0m \u001b[0mknn_clf\u001b[0m\u001b[1;33m.\u001b[0m\u001b[0mfit\u001b[0m\u001b[1;33m(\u001b[0m\u001b[0mX_train\u001b[0m\u001b[1;33m,\u001b[0m \u001b[0my_multilabel\u001b[0m\u001b[1;33m)\u001b[0m\u001b[1;33m\u001b[0m\u001b[1;33m\u001b[0m\u001b[0m\n",
      "\u001b[1;31mNameError\u001b[0m: name 'KNeighborsClassifier' is not defined"
     ]
    }
   ],
   "source": [
    "knn_clf = KNeighborsClassifier()\n",
    "knn_clf.fit(X_train, y_multilabel)"
   ]
  },
  {
   "cell_type": "code",
   "execution_count": null,
   "id": "6fc41a5b",
   "metadata": {
    "ExecuteTime": {
     "end_time": "2021-12-10T17:30:13.741452Z",
     "start_time": "2021-12-10T17:30:13.741452Z"
    }
   },
   "outputs": [],
   "source": [
    "knn_clf.predict(some_digit)"
   ]
  },
  {
   "cell_type": "code",
   "execution_count": null,
   "id": "63558a58",
   "metadata": {},
   "outputs": [],
   "source": [
    "y_train_knn_pred = cross_val_predict(knn_clf, x_train, y_multilabel,cv=3)"
   ]
  },
  {
   "cell_type": "code",
   "execution_count": null,
   "id": "ce26ee2e",
   "metadata": {},
   "outputs": [],
   "source": [
    "f1_score(y_multilabel, y_train_knn_pred, average='macro')"
   ]
  },
  {
   "cell_type": "code",
   "execution_count": null,
   "id": "f69eb5f4",
   "metadata": {},
   "outputs": [],
   "source": []
  },
  {
   "cell_type": "code",
   "execution_count": null,
   "id": "860f1bfe",
   "metadata": {},
   "outputs": [],
   "source": []
  },
  {
   "cell_type": "code",
   "execution_count": null,
   "id": "aab4d6ef",
   "metadata": {},
   "outputs": [],
   "source": []
  },
  {
   "cell_type": "code",
   "execution_count": null,
   "id": "3030c4ec",
   "metadata": {},
   "outputs": [],
   "source": []
  },
  {
   "cell_type": "code",
   "execution_count": null,
   "id": "43b76323",
   "metadata": {},
   "outputs": [],
   "source": []
  }
 ],
 "metadata": {
  "kernelspec": {
   "display_name": "Python 3 (ipykernel)",
   "language": "python",
   "name": "python3"
  },
  "language_info": {
   "codemirror_mode": {
    "name": "ipython",
    "version": 3
   },
   "file_extension": ".py",
   "mimetype": "text/x-python",
   "name": "python",
   "nbconvert_exporter": "python",
   "pygments_lexer": "ipython3",
   "version": "3.9.7"
  },
  "toc": {
   "base_numbering": 1,
   "nav_menu": {},
   "number_sections": true,
   "sideBar": true,
   "skip_h1_title": false,
   "title_cell": "Table of Contents",
   "title_sidebar": "Contents",
   "toc_cell": false,
   "toc_position": {},
   "toc_section_display": true,
   "toc_window_display": false
  }
 },
 "nbformat": 4,
 "nbformat_minor": 5
}
