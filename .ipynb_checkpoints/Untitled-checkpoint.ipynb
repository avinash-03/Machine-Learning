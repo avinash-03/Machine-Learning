{
 "cells": [
  {
   "cell_type": "code",
   "execution_count": 115,
   "id": "f98e46ec",
   "metadata": {
    "ExecuteTime": {
     "end_time": "2021-12-09T17:33:44.579954Z",
     "start_time": "2021-12-09T17:33:44.548495Z"
    }
   },
   "outputs": [],
   "source": [
    "from sklearn.datasets import fetch_openml\n",
    "import pandas as pd\n",
    "import numpy as np\n",
    "import matplotlib as mpl\n",
    "import matplotlib.pyplot as plt"
   ]
  },
  {
   "cell_type": "code",
   "execution_count": 116,
   "id": "436d6b08",
   "metadata": {
    "ExecuteTime": {
     "end_time": "2021-12-09T17:34:24.123342Z",
     "start_time": "2021-12-09T17:33:44.957515Z"
    }
   },
   "outputs": [],
   "source": [
    "mnist = fetch_openml('mnist_784', version=1)"
   ]
  },
  {
   "cell_type": "code",
   "execution_count": 117,
   "id": "12154a96",
   "metadata": {
    "ExecuteTime": {
     "end_time": "2021-12-09T17:34:24.170316Z",
     "start_time": "2021-12-09T17:34:24.138970Z"
    }
   },
   "outputs": [
    {
     "data": {
      "text/plain": [
       "sklearn.utils.Bunch"
      ]
     },
     "execution_count": 117,
     "metadata": {},
     "output_type": "execute_result"
    }
   ],
   "source": [
    "type(mnist) #Types of dataset"
   ]
  },
  {
   "cell_type": "code",
   "execution_count": 118,
   "id": "ebccf9dc",
   "metadata": {
    "ExecuteTime": {
     "end_time": "2021-12-09T17:35:12.317440Z",
     "start_time": "2021-12-09T17:35:12.296440Z"
    }
   },
   "outputs": [
    {
     "data": {
      "text/plain": [
       "dict_keys(['data', 'target', 'frame', 'categories', 'feature_names', 'target_names', 'DESCR', 'details', 'url'])"
      ]
     },
     "execution_count": 118,
     "metadata": {},
     "output_type": "execute_result"
    }
   ],
   "source": [
    "mnist.keys()"
   ]
  },
  {
   "cell_type": "code",
   "execution_count": null,
   "id": "ca560c39",
   "metadata": {
    "ExecuteTime": {
     "end_time": "2021-12-09T13:21:40.261059Z",
     "start_time": "2021-12-09T13:21:40.233059Z"
    }
   },
   "outputs": [],
   "source": []
  },
  {
   "cell_type": "code",
   "execution_count": null,
   "id": "af7dcd0d",
   "metadata": {},
   "outputs": [],
   "source": []
  },
  {
   "cell_type": "code",
   "execution_count": 119,
   "id": "884a2491",
   "metadata": {
    "ExecuteTime": {
     "end_time": "2021-12-09T17:35:14.656652Z",
     "start_time": "2021-12-09T17:35:14.647652Z"
    }
   },
   "outputs": [],
   "source": [
    "X , y = mnist[\"data\"], mnist['target']"
   ]
  },
  {
   "cell_type": "code",
   "execution_count": 120,
   "id": "d6b40224",
   "metadata": {
    "ExecuteTime": {
     "end_time": "2021-12-09T17:35:15.437930Z",
     "start_time": "2021-12-09T17:35:15.416931Z"
    }
   },
   "outputs": [
    {
     "data": {
      "text/plain": [
       "((70000, 784), (70000,))"
      ]
     },
     "execution_count": 120,
     "metadata": {},
     "output_type": "execute_result"
    }
   ],
   "source": [
    "X.shape,y.shape\n"
   ]
  },
  {
   "cell_type": "code",
   "execution_count": null,
   "id": "43d3aee8",
   "metadata": {
    "ExecuteTime": {
     "end_time": "2021-12-09T12:46:50.009467Z",
     "start_time": "2021-12-09T12:46:46.197700Z"
    }
   },
   "outputs": [],
   "source": []
  },
  {
   "cell_type": "code",
   "execution_count": 121,
   "id": "f28119bc",
   "metadata": {
    "ExecuteTime": {
     "end_time": "2021-12-09T17:35:16.749153Z",
     "start_time": "2021-12-09T17:35:16.551205Z"
    }
   },
   "outputs": [
    {
     "data": {
      "image/png": "[encoded data removed]",
      "text/plain": [
       "<Figure size 432x288 with 1 Axes>"
      ]
     },
     "metadata": {
      "needs_background": "light"
     },
     "output_type": "display_data"
    }
   ],
   "source": [
    "some_digit = X.iloc[0]  # X[:1] gives the first row in dataframe\n",
    "some_digit_image=np.array(some_digit).reshape(28,28)\n",
    "#some_digit_image = some_digit.reshape(28,28)\n",
    "\n",
    "plt.imshow(some_digit_image,cmap=mpl.cm.binary, interpolation='nearest')\n",
    "plt.axis('off')\n",
    "plt.show()"
   ]
  },
  {
   "cell_type": "code",
   "execution_count": 122,
   "id": "d58a6123",
   "metadata": {
    "ExecuteTime": {
     "end_time": "2021-12-09T17:35:17.500573Z",
     "start_time": "2021-12-09T17:35:17.479573Z"
    }
   },
   "outputs": [
    {
     "data": {
      "text/plain": [
       "'5'"
      ]
     },
     "execution_count": 122,
     "metadata": {},
     "output_type": "execute_result"
    }
   ],
   "source": [
    "y[0] # it is string convert into numbers"
   ]
  },
  {
   "cell_type": "code",
   "execution_count": 123,
   "id": "d570455a",
   "metadata": {
    "ExecuteTime": {
     "end_time": "2021-12-09T17:35:18.013763Z",
     "start_time": "2021-12-09T17:35:17.995763Z"
    }
   },
   "outputs": [],
   "source": [
    "y= y.astype(np.uint8)"
   ]
  },
  {
   "cell_type": "code",
   "execution_count": 124,
   "id": "5ad0ad52",
   "metadata": {
    "ExecuteTime": {
     "end_time": "2021-12-09T17:35:20.477341Z",
     "start_time": "2021-12-09T17:35:19.223396Z"
    }
   },
   "outputs": [
    {
     "data": {
      "image/png": "[encoded data removed]",
      "text/plain": [
       "<Figure size 1152x432 with 20 Axes>"
      ]
     },
     "metadata": {
      "needs_background": "light"
     },
     "output_type": "display_data"
    }
   ],
   "source": [
    "# see more images\n",
    "fig, axes = plt.subplots(2,10, figsize=(16,6))\n",
    "\n",
    "for i in range(20):\n",
    "    some_digit= X.iloc[i]\n",
    "    some_digit_image=np.array(some_digit).reshape(28,28)\n",
    "    axes[i//10, i%10].imshow(some_digit_image,cmap=mpl.cm.binary,interpolation='nearest')\n",
    "    axes[i//10,i%10].set_title(f\"target:{y[i]}\")"
   ]
  },
  {
   "cell_type": "code",
   "execution_count": 125,
   "id": "e1071a40",
   "metadata": {
    "ExecuteTime": {
     "end_time": "2021-12-09T17:35:21.362489Z",
     "start_time": "2021-12-09T17:35:21.343488Z"
    }
   },
   "outputs": [],
   "source": [
    "# create test set and train set\n",
    "x_train, x_test,y_train,y_test = X[:60000],X[60000:],y[:60000],y[60000:]\n"
   ]
  },
  {
   "cell_type": "code",
   "execution_count": 126,
   "id": "a0de5886",
   "metadata": {
    "ExecuteTime": {
     "end_time": "2021-12-09T17:35:27.333354Z",
     "start_time": "2021-12-09T17:35:27.320358Z"
    }
   },
   "outputs": [],
   "source": [
    "# Binary classifer   two class --> true for 5 , false for not 5\n",
    "y_train_5 = (y_train==5)\n",
    "y_test_5= (y_test==5)"
   ]
  },
  {
   "cell_type": "code",
   "execution_count": 127,
   "id": "559989d8",
   "metadata": {
    "ExecuteTime": {
     "end_time": "2021-12-09T17:35:45.228948Z",
     "start_time": "2021-12-09T17:35:29.721542Z"
    }
   },
   "outputs": [
    {
     "data": {
      "text/plain": [
       "SGDClassifier(random_state=42)"
      ]
     },
     "execution_count": 127,
     "metadata": {},
     "output_type": "execute_result"
    }
   ],
   "source": [
    "# SGD classifier --> Stochastic gradient Descent\n",
    "from sklearn.linear_model import SGDClassifier\n",
    "\n",
    "sgd_clf = SGDClassifier(random_state=42)\n",
    "sgd_clf.fit(x_train,y_train_5)"
   ]
  },
  {
   "cell_type": "code",
   "execution_count": 128,
   "id": "0ed753f4",
   "metadata": {
    "ExecuteTime": {
     "end_time": "2021-12-09T17:35:45.354771Z",
     "start_time": "2021-12-09T17:35:45.231952Z"
    }
   },
   "outputs": [],
   "source": [
    "some_digit=x_train[:1]\n",
    "sgd_clf.predict(some_digit)\n",
    "\n",
    "ypred_train = sgd_clf.predict(x_train)"
   ]
  },
  {
   "cell_type": "code",
   "execution_count": 129,
   "id": "2f017afc",
   "metadata": {
    "ExecuteTime": {
     "end_time": "2021-12-09T17:36:19.494303Z",
     "start_time": "2021-12-09T17:35:57.544768Z"
    }
   },
   "outputs": [
    {
     "name": "stdout",
     "output_type": "stream",
     "text": [
      "0.9672\n",
      "0.96465\n",
      "0.9469\n"
     ]
    }
   ],
   "source": [
    "# Performamce Measure\n",
    "# Cross validation \n",
    "from sklearn.model_selection import StratifiedKFold\n",
    "from sklearn.base import clone\n",
    "clone_clf = SGDClassifier()\n",
    "skfolds = StratifiedKFold(n_splits=3)\n",
    "\n",
    "for train_index, test_index in skfolds.split(x_train,y_train_5):\n",
    "    x_train_folds = x_train.iloc[train_index]\n",
    "    y_train_folds = y_train_5[train_index]\n",
    "    x_test_fold = x_train.iloc[test_index]\n",
    "    y_test_fold = y_train_5[test_index]\n",
    "    \n",
    "    clone_clf.fit(x_train_folds,y_train_folds)\n",
    "    y_pred = clone_clf.predict(x_test_fold)\n",
    "    n_correct = sum(y_pred==y_test_fold)\n",
    "    print(n_correct/len(y_pred))"
   ]
  },
  {
   "cell_type": "code",
   "execution_count": 109,
   "id": "0acd6c51",
   "metadata": {
    "ExecuteTime": {
     "end_time": "2021-12-09T16:56:57.134277Z",
     "start_time": "2021-12-09T16:53:23.680139Z"
    }
   },
   "outputs": [
    {
     "data": {
      "text/plain": [
       "array([0.87365, 0.85835, 0.8689 ])"
      ]
     },
     "execution_count": 109,
     "metadata": {},
     "output_type": "execute_result"
    }
   ],
   "source": [
    "# check the accuracy using cross val score takes (model, xtrain,ytrain,cv=3,scoring='accuracy')\n",
    "from sklearn.model_selection import cross_val_score\n",
    "cross_val_score(sgd_clf, x_train, y_train, cv=3, scoring='accuracy')"
   ]
  },
  {
   "cell_type": "code",
   "execution_count": 130,
   "id": "da0c1d9f",
   "metadata": {
    "ExecuteTime": {
     "end_time": "2021-12-09T17:36:25.870304Z",
     "start_time": "2021-12-09T17:36:25.850621Z"
    }
   },
   "outputs": [],
   "source": [
    "from sklearn.base import BaseEstimator\n",
    "\n",
    "class Never5Classifier(BaseEstimator):\n",
    "    def fit(self, X, y=None):\n",
    "        pass\n",
    "    def predict(self,X):\n",
    "        return np.zeros((len(X),1), dtype=bool)"
   ]
  },
  {
   "cell_type": "code",
   "execution_count": 131,
   "id": "c2c9af6e",
   "metadata": {
    "ExecuteTime": {
     "end_time": "2021-12-09T17:36:27.381999Z",
     "start_time": "2021-12-09T17:36:26.835825Z"
    }
   },
   "outputs": [
    {
     "data": {
      "text/plain": [
       "array([0.91125, 0.90855, 0.90915])"
      ]
     },
     "execution_count": 131,
     "metadata": {},
     "output_type": "execute_result"
    }
   ],
   "source": [
    "never_5_clf = Never5Classifier()\n",
    "cross_val_score(never_5_clf, x_train, y_train_5, cv=3,scoring='accuracy')"
   ]
  },
  {
   "cell_type": "code",
   "execution_count": 133,
   "id": "6d839c2b",
   "metadata": {
    "ExecuteTime": {
     "end_time": "2021-12-09T17:37:15.232194Z",
     "start_time": "2021-12-09T17:37:15.201527Z"
    }
   },
   "outputs": [
    {
     "data": {
      "text/plain": [
       "array([[52316,  2263],\n",
       "       [  601,  4820]], dtype=int64)"
      ]
     },
     "execution_count": 133,
     "metadata": {},
     "output_type": "execute_result"
    }
   ],
   "source": [
    "# confusion matrix\n",
    "from sklearn.metrics import confusion_matrix\n",
    "confusion_matrix(y_train_5,ypred_train)"
   ]
  },
  {
   "cell_type": "code",
   "execution_count": 141,
   "id": "5c5443bf",
   "metadata": {
    "ExecuteTime": {
     "end_time": "2021-12-09T17:48:34.438060Z",
     "start_time": "2021-12-09T17:48:34.405069Z"
    }
   },
   "outputs": [
    {
     "data": {
      "text/plain": [
       "0.6805026118876183"
      ]
     },
     "execution_count": 141,
     "metadata": {},
     "output_type": "execute_result"
    }
   ],
   "source": [
    "from sklearn.metrics import precision_score, recall_score\n",
    ">>> precision_score(y_train_5, ypred_train) # 4820 / (4820+2263)\n"
   ]
  },
  {
   "cell_type": "code",
   "execution_count": 140,
   "id": "454dadd0",
   "metadata": {
    "ExecuteTime": {
     "end_time": "2021-12-09T17:48:30.497266Z",
     "start_time": "2021-12-09T17:48:30.463256Z"
    }
   },
   "outputs": [
    {
     "data": {
      "text/plain": [
       "0.8891348459693783"
      ]
     },
     "execution_count": 140,
     "metadata": {},
     "output_type": "execute_result"
    }
   ],
   "source": [
    ">>> recall_score(y_train_5, ypred_train) # 4820/4820+601"
   ]
  },
  {
   "cell_type": "code",
   "execution_count": 142,
   "id": "f6b69e39",
   "metadata": {
    "ExecuteTime": {
     "end_time": "2021-12-09T18:00:51.870020Z",
     "start_time": "2021-12-09T18:00:51.847021Z"
    }
   },
   "outputs": [
    {
     "data": {
      "text/plain": [
       "0.7709532949456175"
      ]
     },
     "execution_count": 142,
     "metadata": {},
     "output_type": "execute_result"
    }
   ],
   "source": [
    "# f1 score combination of precision and recall is f1 score\n",
    "# f1 score = 2 * Precision * recall / (precison + recall)\n",
    "from sklearn.metrics import f1_score\n",
    "f1_score(y_train_5,ypred_train)"
   ]
  },
  {
   "cell_type": "code",
   "execution_count": null,
   "id": "c0bfc338",
   "metadata": {},
   "outputs": [],
   "source": []
  },
  {
   "cell_type": "code",
   "execution_count": null,
   "id": "181881cf",
   "metadata": {},
   "outputs": [],
   "source": []
  },
  {
   "cell_type": "code",
   "execution_count": null,
   "id": "15afd31b",
   "metadata": {},
   "outputs": [],
   "source": []
  },
  {
   "cell_type": "code",
   "execution_count": null,
   "id": "755c752e",
   "metadata": {},
   "outputs": [],
   "source": []
  }
 ],
 "metadata": {
  "kernelspec": {
   "display_name": "Python 3 (ipykernel)",
   "language": "python",
   "name": "python3"
  },
  "language_info": {
   "codemirror_mode": {
    "name": "ipython",
    "version": 3
   },
   "file_extension": ".py",
   "mimetype": "text/x-python",
   "name": "python",
   "nbconvert_exporter": "python",
   "pygments_lexer": "ipython3",
   "version": "3.9.7"
  },
  "toc": {
   "base_numbering": 1,
   "nav_menu": {},
   "number_sections": true,
   "sideBar": true,
   "skip_h1_title": false,
   "title_cell": "Table of Contents",
   "title_sidebar": "Contents",
   "toc_cell": false,
   "toc_position": {},
   "toc_section_display": true,
   "toc_window_display": false
  }
 },
 "nbformat": 4,
 "nbformat_minor": 5
}
